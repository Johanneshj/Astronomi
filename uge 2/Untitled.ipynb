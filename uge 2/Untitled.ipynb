{
 "cells": [
  {
   "cell_type": "code",
   "execution_count": 5,
   "metadata": {},
   "outputs": [
    {
     "ename": "SyntaxError",
     "evalue": "invalid syntax (<ipython-input-5-2e28ea5e2bd8>, line 1)",
     "output_type": "error",
     "traceback": [
      "\u001b[1;36m  File \u001b[1;32m\"<ipython-input-5-2e28ea5e2bd8>\"\u001b[1;36m, line \u001b[1;32m1\u001b[0m\n\u001b[1;33m    [~]$ pip install mpld3\u001b[0m\n\u001b[1;37m      ^\u001b[0m\n\u001b[1;31mSyntaxError\u001b[0m\u001b[1;31m:\u001b[0m invalid syntax\n"
     ]
    }
   ],
   "source": [
    "[~]$ pip install mpld3\n",
    "from astropy.io import fits\n",
    "import matplotlib.pyplot as plt\n",
    "import numpy as np\n",
    "import math\n",
    "%matplotlib inline\n",
    "import mpld3\n",
    "mpld3.enable_notebook()\n",
    "\n",
    "# Importing FITS file\n",
    "hdulist=fits.open('o4201193.10.fts')\n",
    "imdata = hdulist[0].data\n",
    "\n",
    "# Center for ls1\n",
    "xcenter = 181\n",
    "ycenter = 268\n",
    "\n",
    "# Center for V\n",
    "xcenterV = 214\n",
    "ycenterV = 239\n",
    "\n",
    "plt.clf()\n",
    "plt.axes().set_aspect('equal')\n",
    "plt.imshow(imdata,cmap='gray',clim=(np.percentile(imdata,1),np.percentile(imdata,99)))\n",
    "thisCircle = plt.Circle((xcenter, ycenter), 8,\n",
    "color='r',fill=False,lw=2)\n",
    "plt.gca().add_artist(thisCircle)\n",
    "thisCircle = plt.Circle((xcenterV, ycenterV), 8,\n",
    "color='r',fill=False,lw=2)\n",
    "plt.gca().add_artist(thisCircle)"
   ]
  },
  {
   "cell_type": "code",
   "execution_count": null,
   "metadata": {},
   "outputs": [],
   "source": []
  },
  {
   "cell_type": "code",
   "execution_count": null,
   "metadata": {},
   "outputs": [],
   "source": []
  }
 ],
 "metadata": {
  "kernelspec": {
   "display_name": "Python 3",
   "language": "python",
   "name": "python3"
  },
  "language_info": {
   "codemirror_mode": {
    "name": "ipython",
    "version": 3
   },
   "file_extension": ".py",
   "mimetype": "text/x-python",
   "name": "python",
   "nbconvert_exporter": "python",
   "pygments_lexer": "ipython3",
   "version": "3.7.3"
  }
 },
 "nbformat": 4,
 "nbformat_minor": 2
}
